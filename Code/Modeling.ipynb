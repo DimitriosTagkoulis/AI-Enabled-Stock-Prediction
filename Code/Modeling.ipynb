{
 "cells": [
  {
   "cell_type": "code",
   "execution_count": null,
   "metadata": {},
   "outputs": [],
   "source": [
    "import pandas as pd\n",
    "import pandas as pd\n",
    "import numpy as np\n",
    "import plotly.express as px\n",
    "from datetime import timedelta\n",
    "from pycaret.time_series import *\n",
    "from statsforecast import StatsForecast\n",
    "from statsforecast.models import RandomWalkWithDrift\n",
    "\n",
    "from neuralforecast import NeuralForecast\n",
    "from neuralforecast.models import *\n",
    "from tqdm.autonotebook import tqdm"
   ]
  },
  {
   "attachments": {},
   "cell_type": "markdown",
   "metadata": {},
   "source": [
    "### Data Import and Preparation"
   ]
  },
  {
   "cell_type": "code",
   "execution_count": null,
   "metadata": {},
   "outputs": [],
   "source": [
    "df=pd.read_csv(\"../Data/FinalDF/FinalDF.csv\",encoding=\"utf-8\",sep=\"~\")"
   ]
  },
  {
   "cell_type": "code",
   "execution_count": null,
   "metadata": {},
   "outputs": [],
   "source": [
    "df.head()"
   ]
  },
  {
   "cell_type": "code",
   "execution_count": null,
   "metadata": {},
   "outputs": [],
   "source": [
    "df['Day'] = [i.day for i in df['Date']]\n",
    "df['Month'] = [i.month for i in df['Date']]\n",
    "df['Year'] = [i.year for i in df['Date']]\n"
   ]
  },
  {
   "cell_type": "markdown",
   "metadata": {},
   "source": [
    "### Benchmark Models"
   ]
  },
  {
   "attachments": {},
   "cell_type": "markdown",
   "metadata": {},
   "source": [
    "model = RandomWalkWithDrift()\n",
    "model = model.fit(y=ap)\n",
    "y_hat_dict = model.predict(h=4)\n",
    "y_hat_dict"
   ]
  },
  {
   "cell_type": "code",
   "execution_count": null,
   "metadata": {},
   "outputs": [],
   "source": [
    "models"
   ]
  },
  {
   "cell_type": "code",
   "execution_count": null,
   "metadata": {},
   "outputs": [],
   "source": []
  },
  {
   "attachments": {},
   "cell_type": "markdown",
   "metadata": {},
   "source": [
    "### Statistical Models"
   ]
  },
  {
   "cell_type": "code",
   "execution_count": null,
   "metadata": {},
   "outputs": [],
   "source": []
  },
  {
   "cell_type": "code",
   "execution_count": null,
   "metadata": {},
   "outputs": [],
   "source": []
  },
  {
   "cell_type": "code",
   "execution_count": null,
   "metadata": {},
   "outputs": [],
   "source": []
  },
  {
   "cell_type": "code",
   "execution_count": null,
   "metadata": {},
   "outputs": [],
   "source": []
  },
  {
   "cell_type": "code",
   "execution_count": null,
   "metadata": {},
   "outputs": [],
   "source": []
  },
  {
   "attachments": {},
   "cell_type": "markdown",
   "metadata": {},
   "source": [
    "### ML Models"
   ]
  },
  {
   "cell_type": "code",
   "execution_count": null,
   "metadata": {},
   "outputs": [],
   "source": [
    "def forecast(data, target, horizon):\n",
    "    \n",
    "\n",
    "    setup(data = data, fh = horizon +32, target = target, verbose = False, n_jobs=-1)\n",
    "\n",
    "    best_model = compare_models()\n",
    "\n",
    "    tuned_model = tune_model(best_model)\n",
    "\n",
    "    plot_model(estimator = tuned_model, plot = 'forecast', data_kwargs = {'fh' : horizon + 32})\n",
    "\n",
    "\n",
    "    pred_horizon=horizon+32\n",
    "\n",
    "    pred_unseen = predict_model(finalize_model(tuned_model), fh = pred_horizon, X=future_df)\n",
    "    pred_unseen[target + \" Forecast\"] = pred_unseen['y_pred']\n",
    "\n",
    "    concat_df = pd.concat([data, pred_unseen], axis=0)\n",
    "    concat_df_i = pd.date_range(data.index[0], end = pred_unseen.index[-1].to_timestamp(), freq = 'D')\n",
    "    concat_df.set_index(concat_df_i, inplace=True)\n",
    "\n",
    "    fig = px.line(concat_df, x=concat_df.index, y=[target, target + \" Forecast\"], template = 'plotly_dark')\n",
    "    fig.show()\n",
    "    return pred_unseen"
   ]
  },
  {
   "cell_type": "code",
   "execution_count": null,
   "metadata": {},
   "outputs": [],
   "source": []
  },
  {
   "cell_type": "code",
   "execution_count": null,
   "metadata": {},
   "outputs": [],
   "source": []
  },
  {
   "cell_type": "code",
   "execution_count": null,
   "metadata": {},
   "outputs": [],
   "source": []
  },
  {
   "cell_type": "code",
   "execution_count": null,
   "metadata": {},
   "outputs": [],
   "source": []
  },
  {
   "cell_type": "code",
   "execution_count": null,
   "metadata": {},
   "outputs": [],
   "source": []
  },
  {
   "attachments": {},
   "cell_type": "markdown",
   "metadata": {},
   "source": [
    "### DL Models"
   ]
  },
  {
   "cell_type": "markdown",
   "metadata": {},
   "source": []
  },
  {
   "cell_type": "code",
   "execution_count": null,
   "metadata": {},
   "outputs": [],
   "source": []
  },
  {
   "cell_type": "code",
   "execution_count": null,
   "metadata": {},
   "outputs": [],
   "source": []
  },
  {
   "cell_type": "code",
   "execution_count": null,
   "metadata": {},
   "outputs": [],
   "source": []
  }
 ],
 "metadata": {
  "kernelspec": {
   "display_name": "PycaretTS",
   "language": "python",
   "name": "python3"
  },
  "language_info": {
   "codemirror_mode": {
    "name": "ipython",
    "version": 3
   },
   "file_extension": ".py",
   "mimetype": "text/x-python",
   "name": "python",
   "nbconvert_exporter": "python",
   "pygments_lexer": "ipython3",
   "version": "3.10.0"
  },
  "orig_nbformat": 4,
  "vscode": {
   "interpreter": {
    "hash": "398dc7ca74a063b6a3ad7962fe12ae9d7ec73f1688c081a686696be4cfa86e7f"
   }
  }
 },
 "nbformat": 4,
 "nbformat_minor": 2
}
