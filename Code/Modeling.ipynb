{
 "cells": [
  {
   "cell_type": "code",
   "execution_count": null,
   "metadata": {},
   "outputs": [],
   "source": [
    "import pandas as pd\n",
    "import pandas as pd\n",
    "import numpy as np\n",
    "import warnings\n",
    "import os\n",
    "import sys\n",
    "import plotly.express as px\n",
    "import plotly.figure_factory as ff\n",
    "import pandas as pd\n",
    "from sklearn.metrics import confusion_matrix\n",
    "from sklearn.model_selection import train_test_split\n",
    "from pycaret.regression import *\n",
    "np.random.seed(42)"
   ]
  },
  {
   "cell_type": "code",
   "execution_count": null,
   "metadata": {},
   "outputs": [],
   "source": [
    "# ignore Warnings\n",
    "\n",
    "if not sys.warnoptions:\n",
    "    warnings.simplefilter(\"ignore\")\n",
    "    warnings.filterwarnings('ignore')\n",
    "    os.environ[\"PYTHONWARNINGS\"] = \"ignore\""
   ]
  },
  {
   "cell_type": "code",
   "execution_count": null,
   "metadata": {},
   "outputs": [],
   "source": [
    "def confusion_matrix_per_year(df):\n",
    "    \"\"\"\n",
    "    This function takes in a DataFrame containing true labels, predicted labels and year information and creates a confusion matrix per year plotted in Plotly.\n",
    "\n",
    "    :param df: DataFrame containing true labels, predicted labels and year information\n",
    "    :type df: pandas.DataFrame\n",
    "    \"\"\"\n",
    "    \n",
    "    # Get a list of unique years in the DataFrame\n",
    "    years = df['year'].unique()\n",
    "    \n",
    "    # Loop through each year\n",
    "    for year in years:\n",
    "        # Filter the DataFrame to only include data for the current year\n",
    "        df_year = df[df['year'] == year]\n",
    "        \n",
    "        # Get the true and predicted labels for the current year\n",
    "        y_true = df_year['Movement']\n",
    "        y_pred = df_year['prediction_label']\n",
    "        \n",
    "        # Calculate the confusion matrix for the current year\n",
    "        cm = confusion_matrix(y_true, y_pred)\n",
    "        \n",
    "        # Create a Plotly heatmap to visualize the confusion matrix\n",
    "        fig = ff.create_annotated_heatmap(cm)\n",
    "        \n",
    "        # Update the layout of the heatmap to include a title\n",
    "        fig.update_layout(title=f'Confusion Matrix for Year {year}')\n",
    "        \n",
    "        # Show the heatmap\n",
    "        fig.show()"
   ]
  },
  {
   "cell_type": "code",
   "execution_count": null,
   "metadata": {},
   "outputs": [],
   "source": [
    "def confusion_matrix_per_company(df):\n",
    "    \"\"\"\n",
    "    This function takes in a DataFrame containing true labels, predicted labels and year information and creates a confusion matrix per year plotted in Plotly.\n",
    "\n",
    "    :param df: DataFrame containing true labels, predicted labels and year information\n",
    "    :type df: pandas.DataFrame\n",
    "    \"\"\"\n",
    "   \n",
    "    # Get a list of unique years in the DataFrame\n",
    "    companies = df['Company'].unique()\n",
    "    \n",
    "    # Loop through each year\n",
    "    for company in companies:\n",
    "        # Filter the DataFrame to only include data for the current year\n",
    "        df_company = df[df['Company'] == companies]\n",
    "        \n",
    "        # Get the true and predicted labels for the current year\n",
    "        y_true = df_company['Movement']\n",
    "        y_pred = df_company['prediction_label']\n",
    "        \n",
    "        # Calculate the confusion matrix for the current year\n",
    "        cm = confusion_matrix(y_true, y_pred)\n",
    "        \n",
    "        # Create a Plotly heatmap to visualize the confusion matrix\n",
    "        fig = ff.create_annotated_heatmap(cm)\n",
    "        \n",
    "        # Update the layout of the heatmap to include a title\n",
    "        fig.update_layout(title=f'Confusion Matrix for Company {company}')\n",
    "        \n",
    "        # Show the heatmap\n",
    "        fig.show()"
   ]
  },
  {
   "attachments": {},
   "cell_type": "markdown",
   "metadata": {},
   "source": [
    "### Data Import and Preparation"
   ]
  },
  {
   "cell_type": "code",
   "execution_count": null,
   "metadata": {},
   "outputs": [],
   "source": [
    "df=pd.read_csv(\"../Data/FinalDF/FinalDF.csv\", encoding=\"utf-8\", sep=\"~\")"
   ]
  },
  {
   "cell_type": "code",
   "execution_count": null,
   "metadata": {},
   "outputs": [],
   "source": [
    "# Keep only Traiding days\n",
    "df = df[df['Is Trading Day'] == 1]\n",
    "#df = df[df['Company'] != \"TESLA\"]"
   ]
  },
  {
   "cell_type": "code",
   "execution_count": null,
   "metadata": {},
   "outputs": [],
   "source": [
    "# convert the \"Date\" column to datetime format\n",
    "df['Date'] = pd.to_datetime(df['Date'], format='%Y-%m-%d')"
   ]
  },
  {
   "cell_type": "code",
   "execution_count": null,
   "metadata": {},
   "outputs": [],
   "source": [
    "# Map companies and Movement\n",
    "company_map = {'AMAZON': 0, 'APPLE': 1, 'TESLA': 2, 'MICROSOFT':3}\n",
    "df['Company'] = df['Company'].map(company_map)\n",
    "\n",
    "movement_map ={\"Up\":0, \"Down\":1}\n",
    "df['Movement'] = df['Movement'].map(movement_map)\n",
    "df['PWD Movement'] = df['PWD Movement'].map(movement_map)"
   ]
  },
  {
   "cell_type": "code",
   "execution_count": null,
   "metadata": {},
   "outputs": [],
   "source": [
    "# Create a TimeSeriesSplit object with the desired number of splits\n",
    "val_size=0.3\n",
    "\n",
    "train_data, val_data = train_test_split(df, test_size=val_size)"
   ]
  },
  {
   "cell_type": "code",
   "execution_count": null,
   "metadata": {},
   "outputs": [],
   "source": [
    "target=\"Movement\"\n",
    "\n",
    "# Drop Close and Movement columns to avoid data leakage\n",
    "class_df_train=train_data.drop(columns=[\"Date\", 'Close', \"Adj Close\", \"Price Change\", 'Is Trading Day'])\n",
    "\n",
    "class_df_val=val_data.drop(columns=[\"Date\", 'Close', \"Adj Close\", \"Price Change\", 'Is Trading Day'])"
   ]
  },
  {
   "attachments": {},
   "cell_type": "markdown",
   "metadata": {},
   "source": [
    "## Classification"
   ]
  },
  {
   "cell_type": "code",
   "execution_count": null,
   "metadata": {},
   "outputs": [],
   "source": [
    "from pycaret.classification import *"
   ]
  },
  {
   "cell_type": "code",
   "execution_count": null,
   "metadata": {},
   "outputs": [],
   "source": [
    "# Create the Classification Experiment Enviroment\n",
    "setup=setup(class_df_train, target = target, session_id = 123, n_jobs=-1, fold=20, use_gpu=True, remove_multicollinearity=True, keep_features=['Company', 'year', \"day\", \"month\"], transformation=True, )"
   ]
  },
  {
   "cell_type": "code",
   "execution_count": null,
   "metadata": {},
   "outputs": [],
   "source": [
    "# Find the top 3 models in terms of auc\n",
    "top3 = compare_models(n_select = 3, sort = 'auc', include=[\"knn\",\"svm\",\"rf\",\"et\",\"xgboost\",\"lightgbm\"])"
   ]
  },
  {
   "cell_type": "code",
   "execution_count": null,
   "metadata": {},
   "outputs": [],
   "source": [
    "# Tune top 3 models\n",
    "tuned_top3 = [tune_model(i, optimize = 'auc', search_library=\"scikit-optimize\", early_stopping=True) for i in top3]"
   ]
  },
  {
   "cell_type": "code",
   "execution_count": null,
   "metadata": {},
   "outputs": [],
   "source": [
    "# Find the best model of the classification experiment\n",
    "best_model= automl(optimize = 'auc')"
   ]
  },
  {
   "cell_type": "code",
   "execution_count": null,
   "metadata": {},
   "outputs": [],
   "source": [
    "# Find the optimal threshold of the model\n",
    "optimal_threshold_model = optimize_threshold(best_model)"
   ]
  },
  {
   "cell_type": "code",
   "execution_count": null,
   "metadata": {},
   "outputs": [],
   "source": [
    "# Retrain the model with also the test data\n",
    "final_model = finalize_model(optimal_threshold_model)\n",
    "\n",
    "# Copy the final Training Results\n",
    "trainning_results = pull()"
   ]
  },
  {
   "cell_type": "code",
   "execution_count": null,
   "metadata": {},
   "outputs": [],
   "source": [
    "# Print the final Training Results\n",
    "trainning_results"
   ]
  },
  {
   "cell_type": "code",
   "execution_count": null,
   "metadata": {},
   "outputs": [],
   "source": [
    "# Use the model to predict on the validation set\n",
    "predictions = predict_model(final_model, data=class_df_val)"
   ]
  },
  {
   "cell_type": "code",
   "execution_count": null,
   "metadata": {},
   "outputs": [],
   "source": [
    "#evaluate_model(final_model)\n",
    "validaton_results = pull()"
   ]
  },
  {
   "cell_type": "code",
   "execution_count": null,
   "metadata": {},
   "outputs": [],
   "source": [
    "validaton_results"
   ]
  },
  {
   "cell_type": "code",
   "execution_count": null,
   "metadata": {},
   "outputs": [],
   "source": [
    "# Plot model parameters\n",
    "plot_model(final_model, plot='parameter')"
   ]
  },
  {
   "cell_type": "code",
   "execution_count": null,
   "metadata": {},
   "outputs": [],
   "source": [
    "# Plot Feature Importance\n",
    "plot_model(final_model, plot='feature_all')"
   ]
  },
  {
   "cell_type": "code",
   "execution_count": null,
   "metadata": {},
   "outputs": [],
   "source": [
    "# Plot Precision Recall Curve\n",
    "plot_model(final_model, plot='pr')"
   ]
  },
  {
   "cell_type": "code",
   "execution_count": null,
   "metadata": {},
   "outputs": [],
   "source": [
    "# Plot CV Confusion Matrix\n",
    "plot_model(final_model, plot='confusion_matrix')"
   ]
  },
  {
   "cell_type": "code",
   "execution_count": null,
   "metadata": {},
   "outputs": [],
   "source": [
    "# Plot Precision Recall Curve\n",
    "plot_model(final_model, plot='class_report')"
   ]
  },
  {
   "cell_type": "code",
   "execution_count": null,
   "metadata": {},
   "outputs": [],
   "source": [
    "# Plot Precision Recall Curve\n",
    "plot_model(final_model, plot='learning')"
   ]
  },
  {
   "cell_type": "code",
   "execution_count": null,
   "metadata": {},
   "outputs": [],
   "source": [
    "interpret_model(final_model[-1])"
   ]
  },
  {
   "cell_type": "code",
   "execution_count": null,
   "metadata": {},
   "outputs": [],
   "source": [
    "pipeline = final_model"
   ]
  },
  {
   "cell_type": "code",
   "execution_count": null,
   "metadata": {},
   "outputs": [],
   "source": [
    "predictions"
   ]
  },
  {
   "cell_type": "code",
   "execution_count": null,
   "metadata": {},
   "outputs": [],
   "source": [
    "# Get a list of unique years in the DataFrame\n",
    "years = predictions['year'].unique()\n",
    "\n",
    "# Loop through each year\n",
    "for year in years:\n",
    "    # Filter the DataFrame to only include data for the current year\n",
    "    predictions_year = predictions[predictions['year'] == year]\n",
    "\n",
    "    # Get the true and predicted labels for the current year\n",
    "    y_true = predictions_year['Movement']\n",
    "    y_pred = predictions_year['prediction_label']\n",
    "\n",
    "    # Calculate the confusion matrix for the current year\n",
    "    cm = confusion_matrix(y_true, y_pred)\n",
    "\n",
    "    # Create a Plotly heatmap to visualize the confusion matrix\n",
    "    fig = ff.create_annotated_heatmap(cm)\n",
    "\n",
    "    # Update the layout of the heatmap to include a title\n",
    "    fig.update_layout(title=f'Confusion Matrix for Year {year}')\n",
    "\n",
    "    # Show the heatmap\n",
    "    fig.show()"
   ]
  },
  {
   "cell_type": "code",
   "execution_count": null,
   "metadata": {},
   "outputs": [],
   "source": [
    "confusion_matrix_per_company(predictions)"
   ]
  },
  {
   "cell_type": "code",
   "execution_count": null,
   "metadata": {},
   "outputs": [],
   "source": [
    "confusion_matrix_per_year(predictions)"
   ]
  },
  {
   "cell_type": "code",
   "execution_count": null,
   "metadata": {},
   "outputs": [],
   "source": [
    "y_true"
   ]
  },
  {
   "cell_type": "code",
   "execution_count": null,
   "metadata": {},
   "outputs": [],
   "source": [
    "y_pred"
   ]
  },
  {
   "cell_type": "code",
   "execution_count": null,
   "metadata": {},
   "outputs": [],
   "source": [
    "predictions.isnull().sum()"
   ]
  },
  {
   "cell_type": "code",
   "execution_count": null,
   "metadata": {},
   "outputs": [],
   "source": [
    "df['Company'].isnull().sum()"
   ]
  },
  {
   "cell_type": "code",
   "execution_count": null,
   "metadata": {},
   "outputs": [],
   "source": [
    "predictions"
   ]
  },
  {
   "cell_type": "code",
   "execution_count": null,
   "metadata": {},
   "outputs": [],
   "source": [
    "dashboard(final_model[-1])"
   ]
  },
  {
   "cell_type": "code",
   "execution_count": null,
   "metadata": {},
   "outputs": [],
   "source": []
  }
 ],
 "metadata": {
  "kernelspec": {
   "display_name": "PycaretTS",
   "language": "python",
   "name": "python3"
  },
  "language_info": {
   "codemirror_mode": {
    "name": "ipython",
    "version": 3
   },
   "file_extension": ".py",
   "mimetype": "text/x-python",
   "name": "python",
   "nbconvert_exporter": "python",
   "pygments_lexer": "ipython3",
   "version": "3.10.0"
  },
  "orig_nbformat": 4,
  "vscode": {
   "interpreter": {
    "hash": "398dc7ca74a063b6a3ad7962fe12ae9d7ec73f1688c081a686696be4cfa86e7f"
   }
  }
 },
 "nbformat": 4,
 "nbformat_minor": 2
}
