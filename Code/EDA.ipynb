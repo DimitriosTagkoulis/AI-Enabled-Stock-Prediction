{
 "cells": [
  {
   "cell_type": "code",
   "execution_count": null,
   "metadata": {},
   "outputs": [],
   "source": [
    "from statsmodels.graphics.tsaplots import plot_acf, plot_pacf\n",
    "from sklearn.preprocessing import MinMaxScaler\n",
    "import plotly.graph_objects as go\n",
    "import plotly.subplots as sp\n",
    "import pandas as pd\n",
    "import tempfile\n",
    "import os"
   ]
  },
  {
   "cell_type": "code",
   "execution_count": null,
   "metadata": {},
   "outputs": [],
   "source": [
    "# Step 1: Data Loading\n",
    "df=pd.read_csv(\"../Data/FinalDF/FinalDF.csv\", encoding=\"utf-8\", sep=\"~\")\n",
    "# Keep only the dates after 2019-01-01\n",
    "df = df[df['Date'] >= '2019-01-01']"
   ]
  },
  {
   "cell_type": "code",
   "execution_count": null,
   "metadata": {},
   "outputs": [],
   "source": [
    "# Calculate overall Sentiment for more clear ploting\n",
    "\n",
    "df['PWD Tickers Overall Sentiment'] = df['PWD Tickers Sentiment Positive'] - df['PWD Tickers Sentiment Negative']\n",
    "df['PWD Ceos Overall Sentiment'] = df['PWD Ceos Sentiment Positive'] - df['PWD Ceos Sentiment Negative']\n",
    "\n",
    "df['PWD Tickers Overall Signal'] = df['PWD Tickers Signal Bullish'] - df['PWD Tickers Signal Bearish']\n",
    "df['PWD Ceos Overall Signal'] = df['PWD Ceos Signal Bullish'] - df['PWD Ceos Signal Bearish']"
   ]
  },
  {
   "cell_type": "code",
   "execution_count": null,
   "metadata": {},
   "outputs": [],
   "source": [
    "# Keep only the plotting cols\n",
    "\n",
    "ticker_cols=['Company','Date','Price Change','PWD Tickers Overall Sentiment', 'PWD Tickers Overall Signal']\n",
    "\n",
    "ceo_cols=['Company', 'Date','Price Change','PWD Ceos Overall Sentiment', 'PWD Ceos Overall Signal']\n",
    "\n",
    "plot_cols=ticker_cols+ceo_cols\n",
    "\n",
    "# Separate the DFs\n",
    "df_ceos=df[ceo_cols]\n",
    "df_tickers=df[ticker_cols]"
   ]
  },
  {
   "cell_type": "code",
   "execution_count": null,
   "metadata": {},
   "outputs": [],
   "source": [
    "def plot_columns_per_group(dataset, columns_to_plot):\n",
    "    # Group the DataFrame by the 'Company' column\n",
    "    grouped = dataset.groupby('Company')\n",
    "\n",
    "    # Iterate through each group\n",
    "    for company, group_data in grouped:\n",
    "        # Exclude 'Date' and 'Company' columns\n",
    "        subplot_cols = [col for col in columns_to_plot if col not in ['Date', 'Company']]\n",
    "        \n",
    "        # Create subplots for each ticker\n",
    "        num_subplots = len(subplot_cols)\n",
    "        fig = sp.make_subplots(rows=num_subplots, cols=1, shared_xaxes=True, subplot_titles=subplot_cols)\n",
    "     \n",
    "        for idx, col in enumerate(subplot_cols):\n",
    "            subplot_data = group_data[['Date', col]]\n",
    "            subplot_title = col.replace('PWD Tickers ', '')\n",
    "    \n",
    "            # Add a subplot trace\n",
    "            trace = go.Scatter(x=subplot_data['Date'], y=subplot_data[col], mode='lines', name=subplot_title)\n",
    "            fig.add_trace(trace, row=idx + 1, col=1)\n",
    "    \n",
    "        # Update subplot layout\n",
    "        fig.update_xaxes(title_text='Date', row=num_subplots, col=1)\n",
    "        fig.update_yaxes(title_text='Value', row=1, col=1)\n",
    "    \n",
    "        # Update figure layout\n",
    "        fig.update_layout(title=f'Analysis for {company}', showlegend=False)\n",
    "    \n",
    "        # Show the plot\n",
    "        fig.show()\n"
   ]
  },
  {
   "cell_type": "code",
   "execution_count": null,
   "metadata": {},
   "outputs": [],
   "source": [
    "plot_columns_per_group(df_ceos, ceo_cols)\n"
   ]
  },
  {
   "cell_type": "code",
   "execution_count": null,
   "metadata": {},
   "outputs": [],
   "source": [
    "plot_columns_per_group(df_tickers, ticker_cols)"
   ]
  },
  {
   "cell_type": "code",
   "execution_count": null,
   "metadata": {},
   "outputs": [],
   "source": [
    "descriptive_df=df[['Company','Date','Price Change','PWD Tickers Overall Sentiment', 'PWD Tickers Sentiment Positive',\n",
    "                   'PWD Tickers Sentiment Negative', 'PWD Ceos Overall Sentiment', 'PWD Ceos Sentiment Positive', 'PWD Ceos Sentiment Negative' ]]\n",
    "\n",
    "amazon_df=descriptive_df.loc[descriptive_df['Company']=='Amazon']\n",
    "tesla_df=descriptive_df.loc[descriptive_df['Company']=='Tesla']\n",
    "microsoft_df=descriptive_df.loc[descriptive_df['Company']=='Microsoft']\n",
    "apple_df=descriptive_df.loc[descriptive_df['Company']=='Apple']"
   ]
  },
  {
   "cell_type": "code",
   "execution_count": null,
   "metadata": {},
   "outputs": [],
   "source": [
    "def export_descriptive_stats_to_excel(df, excel_file_name):\n",
    "    # Calculate descriptive statistics for all columns\n",
    "    stats_df = df.describe(include='all')\n",
    "    \n",
    "    # Create a new Excel writer object\n",
    "    writer = pd.ExcelWriter(excel_file_name, engine='openpyxl')\n",
    "    \n",
    "    # Write each column's statistics to a separate sheet\n",
    "    for column in df.columns:\n",
    "        sheet_name = column\n",
    "        stats_df[column].to_excel(writer, sheet_name=sheet_name)\n",
    "    \n",
    "    # Save the Excel file\n",
    "    writer.save()\n",
    "    print(f\"Descriptive statistics exported to {excel_file_name}\")"
   ]
  },
  {
   "cell_type": "code",
   "execution_count": null,
   "metadata": {},
   "outputs": [],
   "source": [
    "amazon_excel_file_name = '../EDA/Amazon_eda_stats.xlsx'\n",
    "tesla_excel_file_name = '../EDA/Tesla_eda_stats.xlsx'\n",
    "microsoft_excel_file_name = '../EDA/Microsoft_eda_stats.xlsx'\n",
    "apple_excel_file_name = '../EDA/Apple_eda_stats.xlsx'"
   ]
  },
  {
   "cell_type": "code",
   "execution_count": null,
   "metadata": {},
   "outputs": [],
   "source": [
    "export_descriptive_stats_to_excel(amazon_df, amazon_excel_file_name)\n",
    "export_descriptive_stats_to_excel(tesla_df, tesla_excel_file_name)\n",
    "export_descriptive_stats_to_excel(microsoft_df, microsoft_excel_file_name)\n",
    "export_descriptive_stats_to_excel(apple_df, apple_excel_file_name)"
   ]
  },
  {
   "cell_type": "code",
   "execution_count": null,
   "metadata": {},
   "outputs": [],
   "source": [
    "import matplotlib.pyplot as plt"
   ]
  },
  {
   "cell_type": "code",
   "execution_count": null,
   "metadata": {},
   "outputs": [],
   "source": [
    "for company in ['Apple', 'Microsoft', 'Amazon', 'Tesla']:\n",
    "    # Calculate ACF and PACF\n",
    "    fig, (ax1, ax2) = plt.subplots(1, 2, figsize=(12, 4))\n",
    "    acf_plot = plot_acf(descriptive_df['Price Change'], lags=40, ax=ax1, title=f'Price Change ACF - {company}')\n",
    "    pacf_plot = plot_pacf(descriptive_df['Price Change'], lags=40, ax=ax2, title=f'Price Change PACF - {company}')\n",
    "    \n",
    "    # Save the plots to the company's folder\n",
    "    plot_filename = f\"../EDA/Price Change_ACF_PCAF_{company}.png\"\n",
    "    plt.savefig(plot_filename)\n",
    "    plt.close()"
   ]
  },
  {
   "cell_type": "code",
   "execution_count": null,
   "metadata": {},
   "outputs": [],
   "source": [
    "for company in ['Apple', 'Microsoft', 'Amazon', 'Tesla']:\n",
    "    # Calculate ACF and PACF\n",
    "    fig, (ax1, ax2) = plt.subplots(1, 2, figsize=(12, 4))\n",
    "    acf_plot = plot_acf(descriptive_df['PWD Tickers Sentiment Positive'], lags=40, ax=ax1, title=f'PWD Tickers Sentiment Positive ACF - {company}')\n",
    "    pacf_plot = plot_pacf(descriptive_df['PWD Tickers Sentiment Positive'], lags=40, ax=ax2, title=f'PWD Tickers Sentiment Positive PACF - {company}')\n",
    "    \n",
    "    # Save the plots to the company's folder\n",
    "    plot_filename = f\"../EDA/PWD Tickers Sentiment Positive_ACF_PCAF_{company}.png\"\n",
    "    plt.savefig(plot_filename)\n",
    "    plt.close()"
   ]
  }
 ],
 "metadata": {
  "kernelspec": {
   "display_name": "TwitterFeatures",
   "language": "python",
   "name": "python3"
  },
  "language_info": {
   "codemirror_mode": {
    "name": "ipython",
    "version": 3
   },
   "file_extension": ".py",
   "mimetype": "text/x-python",
   "name": "python",
   "nbconvert_exporter": "python",
   "pygments_lexer": "ipython3",
   "version": "3.10.0"
  },
  "orig_nbformat": 4
 },
 "nbformat": 4,
 "nbformat_minor": 2
}
