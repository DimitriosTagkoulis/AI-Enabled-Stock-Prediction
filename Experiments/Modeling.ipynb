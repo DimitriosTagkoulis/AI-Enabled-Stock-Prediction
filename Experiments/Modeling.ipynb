{
 "cells": [
  {
   "cell_type": "code",
   "execution_count": 1,
   "metadata": {},
   "outputs": [
    {
     "ename": "ModuleNotFoundError",
     "evalue": "No module named 'torch'",
     "output_type": "error",
     "traceback": [
      "\u001b[1;31m---------------------------------------------------------------------------\u001b[0m",
      "\u001b[1;31mModuleNotFoundError\u001b[0m                       Traceback (most recent call last)",
      "Cell \u001b[1;32mIn[1], line 10\u001b[0m\n\u001b[0;32m      7\u001b[0m \u001b[39mfrom\u001b[39;00m \u001b[39mstatsforecast\u001b[39;00m \u001b[39mimport\u001b[39;00m StatsForecast\n\u001b[0;32m      8\u001b[0m \u001b[39mfrom\u001b[39;00m \u001b[39mstatsforecast\u001b[39;00m\u001b[39m.\u001b[39;00m\u001b[39mmodels\u001b[39;00m \u001b[39mimport\u001b[39;00m RandomWalkWithDrift\n\u001b[1;32m---> 10\u001b[0m \u001b[39mfrom\u001b[39;00m \u001b[39mneuralforecast\u001b[39;00m \u001b[39mimport\u001b[39;00m NeuralForecast\n\u001b[0;32m     11\u001b[0m \u001b[39mfrom\u001b[39;00m \u001b[39mneuralforecast\u001b[39;00m\u001b[39m.\u001b[39;00m\u001b[39mmodels\u001b[39;00m \u001b[39mimport\u001b[39;00m \u001b[39m*\u001b[39m\n\u001b[0;32m     12\u001b[0m \u001b[39mfrom\u001b[39;00m \u001b[39mtqdm\u001b[39;00m\u001b[39m.\u001b[39;00m\u001b[39mautonotebook\u001b[39;00m \u001b[39mimport\u001b[39;00m tqdm\n",
      "File \u001b[1;32m~\\AppData\\Roaming\\Python\\Python310\\site-packages\\neuralforecast\\__init__.py:3\u001b[0m\n\u001b[0;32m      1\u001b[0m __version__ \u001b[39m=\u001b[39m \u001b[39m\"\u001b[39m\u001b[39m1.0.0\u001b[39m\u001b[39m\"\u001b[39m\n\u001b[0;32m      2\u001b[0m __all__ \u001b[39m=\u001b[39m [\u001b[39m'\u001b[39m\u001b[39mNeuralForecast\u001b[39m\u001b[39m'\u001b[39m]\n\u001b[1;32m----> 3\u001b[0m \u001b[39mfrom\u001b[39;00m \u001b[39m.\u001b[39;00m\u001b[39mcore\u001b[39;00m \u001b[39mimport\u001b[39;00m NeuralForecast\n",
      "File \u001b[1;32m~\\AppData\\Roaming\\Python\\Python310\\site-packages\\neuralforecast\\core.py:12\u001b[0m\n\u001b[0;32m      9\u001b[0m \u001b[39mimport\u001b[39;00m \u001b[39mnumpy\u001b[39;00m \u001b[39mas\u001b[39;00m \u001b[39mnp\u001b[39;00m\n\u001b[0;32m     10\u001b[0m \u001b[39mimport\u001b[39;00m \u001b[39mpandas\u001b[39;00m \u001b[39mas\u001b[39;00m \u001b[39mpd\u001b[39;00m\n\u001b[1;32m---> 12\u001b[0m \u001b[39mfrom\u001b[39;00m \u001b[39m.\u001b[39;00m\u001b[39mtsdataset\u001b[39;00m \u001b[39mimport\u001b[39;00m TimeSeriesDataset\n\u001b[0;32m     14\u001b[0m \u001b[39m# %% ../nbs/core.ipynb 5\u001b[39;00m\n\u001b[0;32m     15\u001b[0m \u001b[39mdef\u001b[39;00m \u001b[39m_cv_dates\u001b[39m(last_dates, freq, h, test_size, step_size\u001b[39m=\u001b[39m\u001b[39m1\u001b[39m):\n\u001b[0;32m     16\u001b[0m     \u001b[39m#assuming step_size = 1\u001b[39;00m\n",
      "File \u001b[1;32m~\\AppData\\Roaming\\Python\\Python310\\site-packages\\neuralforecast\\tsdataset.py:11\u001b[0m\n\u001b[0;32m      9\u001b[0m \u001b[39mimport\u001b[39;00m \u001b[39mnumpy\u001b[39;00m \u001b[39mas\u001b[39;00m \u001b[39mnp\u001b[39;00m\n\u001b[0;32m     10\u001b[0m \u001b[39mimport\u001b[39;00m \u001b[39mpandas\u001b[39;00m \u001b[39mas\u001b[39;00m \u001b[39mpd\u001b[39;00m\n\u001b[1;32m---> 11\u001b[0m \u001b[39mimport\u001b[39;00m \u001b[39mpytorch_lightning\u001b[39;00m \u001b[39mas\u001b[39;00m \u001b[39mpl\u001b[39;00m\n\u001b[0;32m     12\u001b[0m \u001b[39mimport\u001b[39;00m \u001b[39mtorch\u001b[39;00m\n\u001b[0;32m     13\u001b[0m \u001b[39mfrom\u001b[39;00m \u001b[39mtorch\u001b[39;00m\u001b[39m.\u001b[39;00m\u001b[39mutils\u001b[39;00m\u001b[39m.\u001b[39;00m\u001b[39mdata\u001b[39;00m \u001b[39mimport\u001b[39;00m Dataset, DataLoader\n",
      "File \u001b[1;32m~\\AppData\\Roaming\\Python\\Python310\\site-packages\\pytorch_lightning\\__init__.py:30\u001b[0m\n\u001b[0;32m     27\u001b[0m     _logger\u001b[39m.\u001b[39maddHandler(logging\u001b[39m.\u001b[39mStreamHandler())\n\u001b[0;32m     28\u001b[0m     _logger\u001b[39m.\u001b[39mpropagate \u001b[39m=\u001b[39m \u001b[39mFalse\u001b[39;00m\n\u001b[1;32m---> 30\u001b[0m \u001b[39mfrom\u001b[39;00m \u001b[39mpytorch_lightning\u001b[39;00m\u001b[39m.\u001b[39;00m\u001b[39mcallbacks\u001b[39;00m \u001b[39mimport\u001b[39;00m Callback  \u001b[39m# noqa: E402\u001b[39;00m\n\u001b[0;32m     31\u001b[0m \u001b[39mfrom\u001b[39;00m \u001b[39mpytorch_lightning\u001b[39;00m\u001b[39m.\u001b[39;00m\u001b[39mcore\u001b[39;00m \u001b[39mimport\u001b[39;00m LightningDataModule, LightningModule  \u001b[39m# noqa: E402\u001b[39;00m\n\u001b[0;32m     32\u001b[0m \u001b[39mfrom\u001b[39;00m \u001b[39mpytorch_lightning\u001b[39;00m\u001b[39m.\u001b[39;00m\u001b[39mtrainer\u001b[39;00m \u001b[39mimport\u001b[39;00m Trainer  \u001b[39m# noqa: E402\u001b[39;00m\n",
      "File \u001b[1;32m~\\AppData\\Roaming\\Python\\Python310\\site-packages\\pytorch_lightning\\callbacks\\__init__.py:14\u001b[0m\n\u001b[0;32m      1\u001b[0m \u001b[39m# Copyright The PyTorch Lightning team.\u001b[39;00m\n\u001b[0;32m      2\u001b[0m \u001b[39m#\u001b[39;00m\n\u001b[0;32m      3\u001b[0m \u001b[39m# Licensed under the Apache License, Version 2.0 (the \"License\");\u001b[39;00m\n\u001b[1;32m   (...)\u001b[0m\n\u001b[0;32m     12\u001b[0m \u001b[39m# See the License for the specific language governing permissions and\u001b[39;00m\n\u001b[0;32m     13\u001b[0m \u001b[39m# limitations under the License.\u001b[39;00m\n\u001b[1;32m---> 14\u001b[0m \u001b[39mfrom\u001b[39;00m \u001b[39mpytorch_lightning\u001b[39;00m\u001b[39m.\u001b[39;00m\u001b[39mcallbacks\u001b[39;00m\u001b[39m.\u001b[39;00m\u001b[39mbase\u001b[39;00m \u001b[39mimport\u001b[39;00m Callback\n\u001b[0;32m     15\u001b[0m \u001b[39mfrom\u001b[39;00m \u001b[39mpytorch_lightning\u001b[39;00m\u001b[39m.\u001b[39;00m\u001b[39mcallbacks\u001b[39;00m\u001b[39m.\u001b[39;00m\u001b[39mdevice_stats_monitor\u001b[39;00m \u001b[39mimport\u001b[39;00m DeviceStatsMonitor\n\u001b[0;32m     16\u001b[0m \u001b[39mfrom\u001b[39;00m \u001b[39mpytorch_lightning\u001b[39;00m\u001b[39m.\u001b[39;00m\u001b[39mcallbacks\u001b[39;00m\u001b[39m.\u001b[39;00m\u001b[39mearly_stopping\u001b[39;00m \u001b[39mimport\u001b[39;00m EarlyStopping\n",
      "File \u001b[1;32m~\\AppData\\Roaming\\Python\\Python310\\site-packages\\pytorch_lightning\\callbacks\\base.py:21\u001b[0m\n\u001b[0;32m     14\u001b[0m \u001b[39mr\u001b[39m\u001b[39m\"\"\"\u001b[39;00m\n\u001b[0;32m     15\u001b[0m \u001b[39mBase class used to build new callbacks.\u001b[39;00m\n\u001b[0;32m     16\u001b[0m \n\u001b[0;32m     17\u001b[0m \u001b[39m\"\"\"\u001b[39;00m\n\u001b[0;32m     19\u001b[0m \u001b[39mfrom\u001b[39;00m \u001b[39mtyping\u001b[39;00m \u001b[39mimport\u001b[39;00m Any, Dict, List, Optional, Type\n\u001b[1;32m---> 21\u001b[0m \u001b[39mimport\u001b[39;00m \u001b[39mtorch\u001b[39;00m\n\u001b[0;32m     22\u001b[0m \u001b[39mfrom\u001b[39;00m \u001b[39mtorch\u001b[39;00m\u001b[39m.\u001b[39;00m\u001b[39moptim\u001b[39;00m \u001b[39mimport\u001b[39;00m Optimizer\n\u001b[0;32m     24\u001b[0m \u001b[39mimport\u001b[39;00m \u001b[39mpytorch_lightning\u001b[39;00m \u001b[39mas\u001b[39;00m \u001b[39mpl\u001b[39;00m\n",
      "\u001b[1;31mModuleNotFoundError\u001b[0m: No module named 'torch'"
     ]
    }
   ],
   "source": [
    "import pandas as pd\n",
    "import pandas as pd\n",
    "import numpy as np\n",
    "import plotly.express as px\n",
    "from datetime import timedelta\n",
    "from pycaret.time_series import *\n",
    "from statsforecast import StatsForecast\n",
    "from statsforecast.models import RandomWalkWithDrift\n",
    "\n",
    "from neuralforecast import NeuralForecast\n",
    "from neuralforecast.models import *\n",
    "from tqdm.autonotebook import tqdm"
   ]
  },
  {
   "attachments": {},
   "cell_type": "markdown",
   "metadata": {},
   "source": [
    "### Data Import and Preparation"
   ]
  },
  {
   "cell_type": "code",
   "execution_count": 2,
   "metadata": {},
   "outputs": [],
   "source": [
    "df=pd.read_csv(\"../Data/FinalDF/FinalDF.csv\",encoding=\"utf-8\",sep=\"~\")"
   ]
  },
  {
   "cell_type": "code",
   "execution_count": 4,
   "metadata": {},
   "outputs": [
    {
     "data": {
      "text/html": [
       "<div>\n",
       "<style scoped>\n",
       "    .dataframe tbody tr th:only-of-type {\n",
       "        vertical-align: middle;\n",
       "    }\n",
       "\n",
       "    .dataframe tbody tr th {\n",
       "        vertical-align: top;\n",
       "    }\n",
       "\n",
       "    .dataframe thead th {\n",
       "        text-align: right;\n",
       "    }\n",
       "</style>\n",
       "<table border=\"1\" class=\"dataframe\">\n",
       "  <thead>\n",
       "    <tr style=\"text-align: right;\">\n",
       "      <th></th>\n",
       "      <th>Unnamed: 0</th>\n",
       "      <th>Date</th>\n",
       "      <th>Open</th>\n",
       "      <th>Close</th>\n",
       "      <th>Company</th>\n",
       "      <th>Price Change</th>\n",
       "      <th>Movement</th>\n",
       "      <th>PWD Open</th>\n",
       "      <th>PWD High</th>\n",
       "      <th>PWD Low</th>\n",
       "      <th>...</th>\n",
       "      <th>Ceos Total Daily Tweets_MIN_5</th>\n",
       "      <th>Ceos Total Daily Tweets_MA_10</th>\n",
       "      <th>Ceos Total Daily Tweets_MAX_10</th>\n",
       "      <th>Ceos Total Daily Tweets_MIN_10</th>\n",
       "      <th>Ceos Total Daily Tweets_MA_15</th>\n",
       "      <th>Ceos Total Daily Tweets_MAX_15</th>\n",
       "      <th>Ceos Total Daily Tweets_MIN_15</th>\n",
       "      <th>Ceos Total Daily Tweets_MA_30</th>\n",
       "      <th>Ceos Total Daily Tweets_MAX_30</th>\n",
       "      <th>Ceos Total Daily Tweets_MIN_30</th>\n",
       "    </tr>\n",
       "  </thead>\n",
       "  <tbody>\n",
       "    <tr>\n",
       "      <th>0</th>\n",
       "      <td>0</td>\n",
       "      <td>2019-01-01</td>\n",
       "      <td>75.540001</td>\n",
       "      <td>75.098503</td>\n",
       "      <td>AMAZON</td>\n",
       "      <td>1.197502</td>\n",
       "      <td>Up</td>\n",
       "      <td>75.540001</td>\n",
       "      <td>76.038002</td>\n",
       "      <td>74.349998</td>\n",
       "      <td>...</td>\n",
       "      <td>111.0</td>\n",
       "      <td>512.3</td>\n",
       "      <td>1514.0</td>\n",
       "      <td>86.0</td>\n",
       "      <td>544.666667</td>\n",
       "      <td>2375.0</td>\n",
       "      <td>76.0</td>\n",
       "      <td>574.033333</td>\n",
       "      <td>2375.0</td>\n",
       "      <td>76.0</td>\n",
       "    </tr>\n",
       "    <tr>\n",
       "      <th>1</th>\n",
       "      <td>1</td>\n",
       "      <td>2019-01-02</td>\n",
       "      <td>73.260002</td>\n",
       "      <td>76.956497</td>\n",
       "      <td>AMAZON</td>\n",
       "      <td>1.857994</td>\n",
       "      <td>Up</td>\n",
       "      <td>75.540001</td>\n",
       "      <td>76.038002</td>\n",
       "      <td>74.349998</td>\n",
       "      <td>...</td>\n",
       "      <td>111.0</td>\n",
       "      <td>469.0</td>\n",
       "      <td>1149.0</td>\n",
       "      <td>86.0</td>\n",
       "      <td>598.933333</td>\n",
       "      <td>2375.0</td>\n",
       "      <td>76.0</td>\n",
       "      <td>565.133333</td>\n",
       "      <td>2375.0</td>\n",
       "      <td>76.0</td>\n",
       "    </tr>\n",
       "    <tr>\n",
       "      <th>2</th>\n",
       "      <td>2</td>\n",
       "      <td>2019-01-03</td>\n",
       "      <td>76.000504</td>\n",
       "      <td>75.014000</td>\n",
       "      <td>AMAZON</td>\n",
       "      <td>-1.942497</td>\n",
       "      <td>Down</td>\n",
       "      <td>73.260002</td>\n",
       "      <td>77.667999</td>\n",
       "      <td>73.046501</td>\n",
       "      <td>...</td>\n",
       "      <td>312.0</td>\n",
       "      <td>571.3</td>\n",
       "      <td>1086.0</td>\n",
       "      <td>111.0</td>\n",
       "      <td>594.066667</td>\n",
       "      <td>1514.0</td>\n",
       "      <td>86.0</td>\n",
       "      <td>627.433333</td>\n",
       "      <td>2375.0</td>\n",
       "      <td>76.0</td>\n",
       "    </tr>\n",
       "    <tr>\n",
       "      <th>3</th>\n",
       "      <td>3</td>\n",
       "      <td>2019-01-04</td>\n",
       "      <td>76.500000</td>\n",
       "      <td>78.769501</td>\n",
       "      <td>AMAZON</td>\n",
       "      <td>3.755501</td>\n",
       "      <td>Up</td>\n",
       "      <td>76.000504</td>\n",
       "      <td>76.900002</td>\n",
       "      <td>74.855499</td>\n",
       "      <td>...</td>\n",
       "      <td>271.0</td>\n",
       "      <td>1108.9</td>\n",
       "      <td>3083.0</td>\n",
       "      <td>271.0</td>\n",
       "      <td>867.600000</td>\n",
       "      <td>3083.0</td>\n",
       "      <td>111.0</td>\n",
       "      <td>760.833333</td>\n",
       "      <td>3083.0</td>\n",
       "      <td>76.0</td>\n",
       "    </tr>\n",
       "    <tr>\n",
       "      <th>4</th>\n",
       "      <td>4</td>\n",
       "      <td>2019-01-05</td>\n",
       "      <td>76.500000</td>\n",
       "      <td>78.769501</td>\n",
       "      <td>AMAZON</td>\n",
       "      <td>3.755501</td>\n",
       "      <td>Up</td>\n",
       "      <td>76.500000</td>\n",
       "      <td>79.699997</td>\n",
       "      <td>75.915497</td>\n",
       "      <td>...</td>\n",
       "      <td>271.0</td>\n",
       "      <td>1039.7</td>\n",
       "      <td>3083.0</td>\n",
       "      <td>271.0</td>\n",
       "      <td>816.200000</td>\n",
       "      <td>3083.0</td>\n",
       "      <td>111.0</td>\n",
       "      <td>737.033333</td>\n",
       "      <td>3083.0</td>\n",
       "      <td>76.0</td>\n",
       "    </tr>\n",
       "  </tbody>\n",
       "</table>\n",
       "<p>5 rows × 263 columns</p>\n",
       "</div>"
      ],
      "text/plain": [
       "   Unnamed: 0        Date       Open      Close Company  Price Change  \\\n",
       "0           0  2019-01-01  75.540001  75.098503  AMAZON      1.197502   \n",
       "1           1  2019-01-02  73.260002  76.956497  AMAZON      1.857994   \n",
       "2           2  2019-01-03  76.000504  75.014000  AMAZON     -1.942497   \n",
       "3           3  2019-01-04  76.500000  78.769501  AMAZON      3.755501   \n",
       "4           4  2019-01-05  76.500000  78.769501  AMAZON      3.755501   \n",
       "\n",
       "  Movement   PWD Open   PWD High    PWD Low  ...  \\\n",
       "0       Up  75.540001  76.038002  74.349998  ...   \n",
       "1       Up  75.540001  76.038002  74.349998  ...   \n",
       "2     Down  73.260002  77.667999  73.046501  ...   \n",
       "3       Up  76.000504  76.900002  74.855499  ...   \n",
       "4       Up  76.500000  79.699997  75.915497  ...   \n",
       "\n",
       "   Ceos Total Daily Tweets_MIN_5  Ceos Total Daily Tweets_MA_10  \\\n",
       "0                          111.0                          512.3   \n",
       "1                          111.0                          469.0   \n",
       "2                          312.0                          571.3   \n",
       "3                          271.0                         1108.9   \n",
       "4                          271.0                         1039.7   \n",
       "\n",
       "   Ceos Total Daily Tweets_MAX_10  Ceos Total Daily Tweets_MIN_10  \\\n",
       "0                          1514.0                            86.0   \n",
       "1                          1149.0                            86.0   \n",
       "2                          1086.0                           111.0   \n",
       "3                          3083.0                           271.0   \n",
       "4                          3083.0                           271.0   \n",
       "\n",
       "   Ceos Total Daily Tweets_MA_15 Ceos Total Daily Tweets_MAX_15  \\\n",
       "0                     544.666667                         2375.0   \n",
       "1                     598.933333                         2375.0   \n",
       "2                     594.066667                         1514.0   \n",
       "3                     867.600000                         3083.0   \n",
       "4                     816.200000                         3083.0   \n",
       "\n",
       "   Ceos Total Daily Tweets_MIN_15  Ceos Total Daily Tweets_MA_30  \\\n",
       "0                            76.0                     574.033333   \n",
       "1                            76.0                     565.133333   \n",
       "2                            86.0                     627.433333   \n",
       "3                           111.0                     760.833333   \n",
       "4                           111.0                     737.033333   \n",
       "\n",
       "   Ceos Total Daily Tweets_MAX_30  Ceos Total Daily Tweets_MIN_30  \n",
       "0                          2375.0                            76.0  \n",
       "1                          2375.0                            76.0  \n",
       "2                          2375.0                            76.0  \n",
       "3                          3083.0                            76.0  \n",
       "4                          3083.0                            76.0  \n",
       "\n",
       "[5 rows x 263 columns]"
      ]
     },
     "execution_count": 4,
     "metadata": {},
     "output_type": "execute_result"
    }
   ],
   "source": [
    "df.head()"
   ]
  },
  {
   "cell_type": "code",
   "execution_count": 3,
   "metadata": {},
   "outputs": [
    {
     "ename": "AttributeError",
     "evalue": "'str' object has no attribute 'day'",
     "output_type": "error",
     "traceback": [
      "\u001b[1;31m---------------------------------------------------------------------------\u001b[0m",
      "\u001b[1;31mAttributeError\u001b[0m                            Traceback (most recent call last)",
      "Cell \u001b[1;32mIn[3], line 1\u001b[0m\n\u001b[1;32m----> 1\u001b[0m df[\u001b[39m'\u001b[39m\u001b[39mDay\u001b[39m\u001b[39m'\u001b[39m] \u001b[39m=\u001b[39m [i\u001b[39m.\u001b[39mday \u001b[39mfor\u001b[39;00m i \u001b[39min\u001b[39;00m df[\u001b[39m'\u001b[39m\u001b[39mDate\u001b[39m\u001b[39m'\u001b[39m]]\n\u001b[0;32m      2\u001b[0m df[\u001b[39m'\u001b[39m\u001b[39mMonth\u001b[39m\u001b[39m'\u001b[39m] \u001b[39m=\u001b[39m [i\u001b[39m.\u001b[39mmonth \u001b[39mfor\u001b[39;00m i \u001b[39min\u001b[39;00m df[\u001b[39m'\u001b[39m\u001b[39mDate\u001b[39m\u001b[39m'\u001b[39m]]\n\u001b[0;32m      3\u001b[0m df[\u001b[39m'\u001b[39m\u001b[39mYear\u001b[39m\u001b[39m'\u001b[39m] \u001b[39m=\u001b[39m [i\u001b[39m.\u001b[39myear \u001b[39mfor\u001b[39;00m i \u001b[39min\u001b[39;00m df[\u001b[39m'\u001b[39m\u001b[39mDate\u001b[39m\u001b[39m'\u001b[39m]]\n",
      "Cell \u001b[1;32mIn[3], line 1\u001b[0m, in \u001b[0;36m<listcomp>\u001b[1;34m(.0)\u001b[0m\n\u001b[1;32m----> 1\u001b[0m df[\u001b[39m'\u001b[39m\u001b[39mDay\u001b[39m\u001b[39m'\u001b[39m] \u001b[39m=\u001b[39m [i\u001b[39m.\u001b[39;49mday \u001b[39mfor\u001b[39;00m i \u001b[39min\u001b[39;00m df[\u001b[39m'\u001b[39m\u001b[39mDate\u001b[39m\u001b[39m'\u001b[39m]]\n\u001b[0;32m      2\u001b[0m df[\u001b[39m'\u001b[39m\u001b[39mMonth\u001b[39m\u001b[39m'\u001b[39m] \u001b[39m=\u001b[39m [i\u001b[39m.\u001b[39mmonth \u001b[39mfor\u001b[39;00m i \u001b[39min\u001b[39;00m df[\u001b[39m'\u001b[39m\u001b[39mDate\u001b[39m\u001b[39m'\u001b[39m]]\n\u001b[0;32m      3\u001b[0m df[\u001b[39m'\u001b[39m\u001b[39mYear\u001b[39m\u001b[39m'\u001b[39m] \u001b[39m=\u001b[39m [i\u001b[39m.\u001b[39myear \u001b[39mfor\u001b[39;00m i \u001b[39min\u001b[39;00m df[\u001b[39m'\u001b[39m\u001b[39mDate\u001b[39m\u001b[39m'\u001b[39m]]\n",
      "\u001b[1;31mAttributeError\u001b[0m: 'str' object has no attribute 'day'"
     ]
    }
   ],
   "source": [
    "df['Day'] = [i.day for i in df['Date']]\n",
    "df['Month'] = [i.month for i in df['Date']]\n",
    "df['Year'] = [i.year for i in df['Date']]\n"
   ]
  },
  {
   "cell_type": "markdown",
   "metadata": {},
   "source": [
    "### Benchmark Models"
   ]
  },
  {
   "attachments": {},
   "cell_type": "markdown",
   "metadata": {},
   "source": [
    "model = RandomWalkWithDrift()\n",
    "model = model.fit(y=ap)\n",
    "y_hat_dict = model.predict(h=4)\n",
    "y_hat_dict"
   ]
  },
  {
   "cell_type": "code",
   "execution_count": 4,
   "metadata": {},
   "outputs": [
    {
     "ename": "NameError",
     "evalue": "name 'models' is not defined",
     "output_type": "error",
     "traceback": [
      "\u001b[1;31m---------------------------------------------------------------------------\u001b[0m",
      "\u001b[1;31mNameError\u001b[0m                                 Traceback (most recent call last)",
      "Cell \u001b[1;32mIn[4], line 1\u001b[0m\n\u001b[1;32m----> 1\u001b[0m models\n",
      "\u001b[1;31mNameError\u001b[0m: name 'models' is not defined"
     ]
    }
   ],
   "source": [
    "models"
   ]
  },
  {
   "cell_type": "code",
   "execution_count": null,
   "metadata": {},
   "outputs": [],
   "source": []
  },
  {
   "attachments": {},
   "cell_type": "markdown",
   "metadata": {},
   "source": [
    "### Statistical Models"
   ]
  },
  {
   "cell_type": "code",
   "execution_count": null,
   "metadata": {},
   "outputs": [],
   "source": []
  },
  {
   "cell_type": "code",
   "execution_count": null,
   "metadata": {},
   "outputs": [],
   "source": []
  },
  {
   "cell_type": "code",
   "execution_count": null,
   "metadata": {},
   "outputs": [],
   "source": []
  },
  {
   "cell_type": "code",
   "execution_count": null,
   "metadata": {},
   "outputs": [],
   "source": []
  },
  {
   "cell_type": "code",
   "execution_count": null,
   "metadata": {},
   "outputs": [],
   "source": []
  },
  {
   "attachments": {},
   "cell_type": "markdown",
   "metadata": {},
   "source": [
    "### ML Models"
   ]
  },
  {
   "cell_type": "code",
   "execution_count": null,
   "metadata": {},
   "outputs": [],
   "source": [
    "def forecast(data, target, horizon):\n",
    "    \n",
    "\n",
    "    setup(data = data, fh = horizon +32, target = target, verbose = False, n_jobs=-1)\n",
    "\n",
    "    best_model = compare_models()\n",
    "\n",
    "    tuned_model = tune_model(best_model)\n",
    "\n",
    "    plot_model(estimator = tuned_model, plot = 'forecast', data_kwargs = {'fh' : horizon + 32})\n",
    "\n",
    "\n",
    "    pred_horizon=horizon+32\n",
    "\n",
    "    pred_unseen = predict_model(finalize_model(tuned_model), fh = pred_horizon, X=future_df)\n",
    "    pred_unseen[target + \" Forecast\"] = pred_unseen['y_pred']\n",
    "\n",
    "    concat_df = pd.concat([data, pred_unseen], axis=0)\n",
    "    concat_df_i = pd.date_range(data.index[0], end = pred_unseen.index[-1].to_timestamp(), freq = 'D')\n",
    "    concat_df.set_index(concat_df_i, inplace=True)\n",
    "\n",
    "    fig = px.line(concat_df, x=concat_df.index, y=[target, target + \" Forecast\"], template = 'plotly_dark')\n",
    "    fig.show()\n",
    "    return pred_unseen"
   ]
  },
  {
   "cell_type": "code",
   "execution_count": null,
   "metadata": {},
   "outputs": [],
   "source": []
  },
  {
   "cell_type": "code",
   "execution_count": null,
   "metadata": {},
   "outputs": [],
   "source": []
  },
  {
   "cell_type": "code",
   "execution_count": null,
   "metadata": {},
   "outputs": [],
   "source": []
  },
  {
   "cell_type": "code",
   "execution_count": null,
   "metadata": {},
   "outputs": [],
   "source": []
  },
  {
   "cell_type": "code",
   "execution_count": null,
   "metadata": {},
   "outputs": [],
   "source": []
  },
  {
   "attachments": {},
   "cell_type": "markdown",
   "metadata": {},
   "source": [
    "### DL Models"
   ]
  },
  {
   "cell_type": "markdown",
   "metadata": {},
   "source": []
  },
  {
   "cell_type": "code",
   "execution_count": null,
   "metadata": {},
   "outputs": [],
   "source": []
  },
  {
   "cell_type": "code",
   "execution_count": null,
   "metadata": {},
   "outputs": [],
   "source": []
  },
  {
   "cell_type": "code",
   "execution_count": null,
   "metadata": {},
   "outputs": [],
   "source": []
  }
 ],
 "metadata": {
  "kernelspec": {
   "display_name": "PycaretTS",
   "language": "python",
   "name": "python3"
  },
  "language_info": {
   "codemirror_mode": {
    "name": "ipython",
    "version": 3
   },
   "file_extension": ".py",
   "mimetype": "text/x-python",
   "name": "python",
   "nbconvert_exporter": "python",
   "pygments_lexer": "ipython3",
   "version": "3.10.0"
  },
  "orig_nbformat": 4,
  "vscode": {
   "interpreter": {
    "hash": "398dc7ca74a063b6a3ad7962fe12ae9d7ec73f1688c081a686696be4cfa86e7f"
   }
  }
 },
 "nbformat": 4,
 "nbformat_minor": 2
}
