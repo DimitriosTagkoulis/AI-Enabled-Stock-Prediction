{
 "cells": [
  {
   "cell_type": "code",
   "execution_count": 33,
   "metadata": {},
   "outputs": [],
   "source": [
    "import polars as pl\n",
    "import pandas as pd\n",
    "from polars import col\n",
    "import yfinance as yf\n",
    "from ta import add_all_ta_features"
   ]
  },
  {
   "cell_type": "code",
   "execution_count": 2,
   "metadata": {},
   "outputs": [],
   "source": [
    "def get_moving_stats(df, cols):\n",
    "  # Define a list of periods to calculate\n",
    "  periods = [3, 5, 10, 15, 30]\n",
    "  \n",
    "  # Loop through each column in the list\n",
    "  for col in cols:\n",
    "    # Loop through each period in the list\n",
    "    for p in periods:\n",
    "      # Calculate moving average using rolling() and mean()\n",
    "      df[f\"{col}_MA_{p}\"] = df[col].rolling(p).mean()\n",
    "      # Calculate moving max using rolling() and max()\n",
    "      df[f\"{col}_MAX_{p}\"] = df[col].rolling(p).max()\n",
    "      # Calculate moving min using rolling() and min()\n",
    "      df[f\"{col}_MIN_{p}\"] = df[col].rolling(p).min()\n",
    "\n",
    "  return df # Return the modified dataframe"
   ]
  },
  {
   "cell_type": "code",
   "execution_count": 3,
   "metadata": {},
   "outputs": [],
   "source": [
    "def get_data(ticker, start_date, end_date):\n",
    "  # create a yfinance object with the given ticker\n",
    "  stock = yf.Ticker(ticker)\n",
    "  # get historical market data for the given date range\n",
    "  data = stock.history(start=start_date, end=end_date)\n",
    "  # return the data as a pandas dataframe\n",
    "  return data"
   ]
  },
  {
   "cell_type": "code",
   "execution_count": 4,
   "metadata": {},
   "outputs": [],
   "source": [
    "# Define a function that slices and casts a column\n",
    "def slice_and_cast(col):\n",
    "    return pl.col(col).str.slice(0, 10).str.strptime(pl.Datetime, \"%Y-%m-%d\").cast(pl.Date)"
   ]
  },
  {
   "cell_type": "code",
   "execution_count": 5,
   "metadata": {},
   "outputs": [],
   "source": [
    "def split_column(df):\n",
    "    df = df.with_columns(pl.col(\"File\").str.slice(22, 30))\n",
    "    df = df.with_columns([\n",
    "                           col('File'),\n",
    "                           *[col('File').apply(lambda s, i=i: s.split('/')[i]).alias(col_name)\n",
    "                            for i, col_name in enumerate(['Query_Type', 'Query', 'FileName'])]\n",
    "    ])\n",
    "    return df"
   ]
  },
  {
   "attachments": {},
   "cell_type": "markdown",
   "metadata": {},
   "source": [
    "### Tweet Features"
   ]
  },
  {
   "cell_type": "code",
   "execution_count": 6,
   "metadata": {},
   "outputs": [],
   "source": [
    "tickers_df=pl.read_csv('../Data/ScoredDf/Tickers.csv', sep='~', encoding='utf-8')"
   ]
  },
  {
   "cell_type": "code",
   "execution_count": 7,
   "metadata": {},
   "outputs": [],
   "source": [
    "ceos_df=pl.read_csv('../Data/ScoredDf/Ceos.csv', sep='~', encoding='utf-8')"
   ]
  },
  {
   "cell_type": "code",
   "execution_count": 8,
   "metadata": {},
   "outputs": [],
   "source": [
    "tickers_df.columns = list(map(lambda x: x.replace(\" \", \"_\"), tickers_df.columns))\n",
    "ceos_df.columns = list(map(lambda x: x.replace(\" \", \"_\"), ceos_df.columns))"
   ]
  },
  {
   "cell_type": "code",
   "execution_count": 9,
   "metadata": {},
   "outputs": [],
   "source": [
    "# Apply the slice function to the date column to create the dates\n",
    "tickers_df = tickers_df.with_columns(slice_and_cast(\"Created_at\"))\n",
    "#ceos_df = ceos_df.with_columns(slice_and_cast(\"Created_at\"))"
   ]
  },
  {
   "cell_type": "code",
   "execution_count": 10,
   "metadata": {},
   "outputs": [],
   "source": [
    "# Apply the slice function to the date column to create the dates\n",
    "tickers_df = split_column(tickers_df)\n",
    "#ceos_df = split_column(ceos_df)"
   ]
  },
  {
   "cell_type": "code",
   "execution_count": 11,
   "metadata": {},
   "outputs": [],
   "source": [
    "# Aggregating for each date group by date and categorical column\n",
    "tickers_features_querry = (\n",
    "    tickers_df.lazy()\n",
    "    .groupby([\"Created_at\", \"Query\", \"Query_Type\"])\n",
    "    .agg(\n",
    "        [\n",
    "            (pl.col('Sentiment_Label')==\"Positive\").sum().alias('Tickers Sentiment Positive'),\n",
    "            (pl.col('Sentiment_Label')==\"Negative\").sum().alias('Tickers Sentiment Negative'),\n",
    "            (pl.col('Signal_Label')==\"Bullish\").sum().alias('Tickers Signal Bullish'),\n",
    "            (pl.col('Signal_Label')==\"Bearish\").sum().alias('Tickers Signal Bearish'),\n",
    "            (pl.col('Created_at')).count().alias('Tickers Total Daily Tweets'),\n",
    "        ]\n",
    "    )\n",
    "    .sort(\"Created_at\", descending=False)\n",
    ")\n",
    "\n",
    "tickers_sentiment_features = tickers_features_querry.collect()"
   ]
  },
  {
   "cell_type": "code",
   "execution_count": 12,
   "metadata": {},
   "outputs": [],
   "source": [
    "# Create a Compnay Column for merging with Ceos Dataframe\n",
    "tickers_sentiment_features = tickers_sentiment_features.with_column(\n",
    "    pl.when(pl.col(\"Query\") == \"AMZN\")\n",
    "    .then(pl.lit(\"AMAZON\"))\n",
    "    .when(pl.col(\"Query\") == \"AAPL\")\n",
    "    .then(pl.lit(\"APPLE\"))\n",
    "    .when(pl.col(\"Query\") == \"TSLA\")\n",
    "    .then(pl.lit(\"TESLA\"))\n",
    "    .otherwise(pl.lit(\"ERROR\"))\n",
    "    .alias(\"Company\")\n",
    ")"
   ]
  },
  {
   "cell_type": "code",
   "execution_count": 13,
   "metadata": {},
   "outputs": [],
   "source": [
    "cols=[\n",
    " 'Tickers Sentiment Positive',\n",
    " 'Tickers Sentiment Negative',\n",
    " 'Tickers Signal Bullish',\n",
    " 'Tickers Signal Bearish',\n",
    " 'Tickers Total Daily Tweets',\n",
    "]"
   ]
  },
  {
   "cell_type": "code",
   "execution_count": 14,
   "metadata": {},
   "outputs": [],
   "source": [
    "tickers_sentiment_features = get_moving_stats(tickers_sentiment_features.to_pandas(),cols)"
   ]
  },
  {
   "cell_type": "code",
   "execution_count": null,
   "metadata": {},
   "outputs": [],
   "source": [
    "# Aggregating for each date group by date and categorical column\n",
    "ceos_features_querry = (\n",
    "    ceos_df.lazy()\n",
    "    .groupby([\"Created_at\", \"Query\", \"Query_Type\"])\n",
    "    .agg(\n",
    "        [\n",
    "            (pl.col('Sentiment_Label')==\"Positive\").sum().alias('Ceos Sentiment Positive'),\n",
    "            (pl.col('Sentiment_Label')==\"Negative\").sum().alias('Ceos Sentiment Negative'),\n",
    "            (pl.col('Signal_Label')==\"Bullish\").sum().alias('Ceos Signal Bullish'),\n",
    "            (pl.col('Signal_Label')==\"Bearish\").sum().alias('Ceos Signal Bearish'),\n",
    "            (pl.col('Created_at')).count().alias('Ceos Total Daily Tweets'),\n",
    "        ]\n",
    "    )\n",
    "    .sort(\"Created_at\", descending=False)\n",
    ")\n",
    "\n",
    "ceos_sentiment_features = ceos_features_querry.collect()"
   ]
  },
  {
   "cell_type": "code",
   "execution_count": null,
   "metadata": {},
   "outputs": [],
   "source": [
    "# Create a Compnay Column for merging with Ticker Dataframe\n",
    "ceos_sentiment_features = ceos_sentiment_features.with_column(\n",
    "    pl.when(pl.col(\"Query\") == \"Jeff Bezos\")\n",
    "    .then(pl.lit(\"AMAZON\"))\n",
    "    .when(pl.col(\"Query\") == \"Tim Cook\")\n",
    "    .then(pl.lit(\"APPLE\"))\n",
    "    .when(pl.col(\"Query\") == \"Elon Musk\")\n",
    "    .then(pl.lit(\"TESLA\"))\n",
    "    .otherwise(pl.lit(\"ERROR\"))\n",
    "    .alias(\"Company\")\n",
    ")"
   ]
  },
  {
   "cell_type": "code",
   "execution_count": null,
   "metadata": {},
   "outputs": [],
   "source": [
    "cols=[\n",
    " 'Ceos Sentiment Positive',\n",
    " 'Ceos Sentiment Negative',\n",
    " 'Ceos Signal Bullish',\n",
    " 'Ceos Signal Bearish',\n",
    " 'Ceos Total Daily Tweets',\n",
    "]"
   ]
  },
  {
   "cell_type": "code",
   "execution_count": null,
   "metadata": {},
   "outputs": [],
   "source": [
    "ceos_sentiment_features = get_moving_stats(ceos_sentiment_features.to_pandas(),cols)"
   ]
  },
  {
   "cell_type": "code",
   "execution_count": null,
   "metadata": {},
   "outputs": [],
   "source": [
    "#Merge the two datasets\n",
    "twitter_features=tickers_sentiment_features.join(ceos_sentiment_features, on=[\"Created_at\", \"Company\"], how=\"inner\")\n",
    "\n",
    "#Check if there are left out records on either side\n",
    "twitter_features.shape[0] == tickers_sentiment_features.shape[0] == ceos_sentiment_features.shape[0]\n"
   ]
  },
  {
   "attachments": {},
   "cell_type": "markdown",
   "metadata": {},
   "source": [
    "### Techincal Analysis Features"
   ]
  },
  {
   "cell_type": "code",
   "execution_count": 15,
   "metadata": {},
   "outputs": [
    {
     "name": "stdout",
     "output_type": "stream",
     "text": [
      "[*********************100%***********************]  1 of 1 completed\n"
     ]
    }
   ],
   "source": [
    "#Download Apple Stock Data\n",
    "aapl_df = yf.download(\"AAPL\",\n",
    "                 start=\"2019-01-01\",\n",
    "                 end=\"2021-12-31\")\n",
    "#Add Company Column\n",
    "aapl_df[\"Company\"]=\"APPLE\"\n",
    "# Subtract previous row value from current row value\n",
    "aapl_df[\"Price Change\"] = aapl_df[\"Adj Close\"] - aapl_df[\"Adj Close\"].shift(1)\n",
    "# Compute percentage change from previous row value\n",
    "aapl_df[\"% Price Change\"] = aapl_df[\"Adj Close\"].pct_change() \n",
    "# Apply a function to assign Up or Down based on Price Change\n",
    "aapl_df[\"Movement\"] = aapl_df[\"Price Change\"].apply(lambda x: \"Up\" if x > 0 else \"Down\") \n",
    "# Add all technical analysis features\n",
    "aapl_df = add_all_ta_features(\n",
    "    aapl_df, open=\"Open\", high=\"High\", low=\"Low\", close=\"Close\", volume=\"Volume\")"
   ]
  },
  {
   "cell_type": "code",
   "execution_count": 16,
   "metadata": {},
   "outputs": [
    {
     "name": "stdout",
     "output_type": "stream",
     "text": [
      "[*********************100%***********************]  1 of 1 completed\n"
     ]
    }
   ],
   "source": [
    "#Download Tesla Stock Data\n",
    "tsla_df = yf.download(\"TSLA\",\n",
    "                 start=\"2019-01-01\",\n",
    "                 end=\"2021-12-31\")\n",
    "#Add Company Column\n",
    "tsla_df[\"Company\"]=\"TESLA\"\n",
    "# Subtract previous row value from current row value\n",
    "tsla_df[\"Price Change\"] = tsla_df[\"Adj Close\"] - tsla_df[\"Adj Close\"].shift(1)\n",
    "# Compute percentage change from previous row value\n",
    "tsla_df[\"% Price Change\"] = tsla_df[\"Adj Close\"].pct_change() \n",
    "# Apply a function to assign Up or Down based on Price Change\n",
    "tsla_df[\"Movement\"] = tsla_df[\"Price Change\"].apply(lambda x: \"Up\" if x > 0 else \"Down\") \n",
    "# Add all technical analysis features\n",
    "tsla_df = add_all_ta_features(\n",
    "    tsla_df, open=\"Open\", high=\"High\", low=\"Low\", close=\"Close\", volume=\"Volume\")"
   ]
  },
  {
   "cell_type": "code",
   "execution_count": 17,
   "metadata": {},
   "outputs": [
    {
     "name": "stdout",
     "output_type": "stream",
     "text": [
      "[*********************100%***********************]  1 of 1 completed\n"
     ]
    }
   ],
   "source": [
    "#Download Amazon Stock Data\n",
    "amzn_df = yf.download(\"AMZN\",\n",
    "                 start=\"2019-01-01\",\n",
    "                 end=\"2021-12-31\")\n",
    "#Add Company Column\n",
    "amzn_df[\"Company\"]=\"AMAZON\"\n",
    "# Subtract previous row value from current row value\n",
    "amzn_df[\"Price Change\"] = amzn_df[\"Adj Close\"] - amzn_df[\"Adj Close\"].shift(1)\n",
    "# Compute percentage change from previous row value\n",
    "amzn_df[\"% Price Change\"] = amzn_df[\"Adj Close\"].pct_change() \n",
    "# Apply a function to assign Up or Down based on Price Change\n",
    "amzn_df[\"Movement\"] = amzn_df[\"Price Change\"].apply(lambda x: \"Up\" if x > 0 else \"Down\") \n",
    "# Add all technical analysis features\n",
    "amzn_df = add_all_ta_features(\n",
    "    amzn_df, open=\"Open\", high=\"High\", low=\"Low\", close=\"Close\", volume=\"Volume\")"
   ]
  },
  {
   "cell_type": "code",
   "execution_count": 18,
   "metadata": {},
   "outputs": [],
   "source": [
    "# Combine the dataframes\n",
    "technical_df = pd.concat([amzn_df, tsla_df, aapl_df])"
   ]
  },
  {
   "attachments": {},
   "cell_type": "markdown",
   "metadata": {},
   "source": [
    "### Final DataFrame Creation"
   ]
  },
  {
   "cell_type": "code",
   "execution_count": null,
   "metadata": {},
   "outputs": [],
   "source": []
  }
 ],
 "metadata": {
  "kernelspec": {
   "display_name": "TwitterFeatures",
   "language": "python",
   "name": "python3"
  },
  "language_info": {
   "codemirror_mode": {
    "name": "ipython",
    "version": 3
   },
   "file_extension": ".py",
   "mimetype": "text/x-python",
   "name": "python",
   "nbconvert_exporter": "python",
   "pygments_lexer": "ipython3",
   "version": "3.10.0"
  },
  "orig_nbformat": 4,
  "vscode": {
   "interpreter": {
    "hash": "07cb061406cf46499cfe37244e70ea4bcd96108fd1d0758d33c007e36c277ce0"
   }
  }
 },
 "nbformat": 4,
 "nbformat_minor": 2
}
